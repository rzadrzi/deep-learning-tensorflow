{
  "nbformat": 4,
  "nbformat_minor": 0,
  "metadata": {
    "colab": {
      "name": "01-ANN.ipynb",
      "provenance": [],
      "collapsed_sections": []
    },
    "kernelspec": {
      "name": "python3",
      "display_name": "Python 3"
    }
  },
  "cells": [
    {
      "cell_type": "code",
      "metadata": {
        "id": "sDK7ed_RqODD"
      },
      "source": [
        "import numpy as np\n",
        "import pandas as pd\n",
        "import sklearn.metrics as ms\n",
        "import matplotlib.pyplot as plt\n",
        "from tensorflow import keras \n",
        "from tensorflow.keras import layers"
      ],
      "execution_count": null,
      "outputs": []
    },
    {
      "cell_type": "code",
      "metadata": {
        "id": "J3A_18ECeLi_",
        "colab": {
          "base_uri": "https://localhost:8080/"
        },
        "outputId": "97d87b6d-516e-42e5-8e46-1049f59f651c"
      },
      "source": [
        "# Load Data\n",
        " \n",
        "mnist = keras.datasets.mnist\n",
        " \n",
        "(X_train, y_train), (X_test, y_test) = mnist.load_data()\n",
        "X_train, X_test = X_train/255, X_test/255"
      ],
      "execution_count": null,
      "outputs": [
        {
          "output_type": "stream",
          "text": [
            "Downloading data from https://storage.googleapis.com/tensorflow/tf-keras-datasets/mnist.npz\n",
            "11493376/11490434 [==============================] - 0s 0us/step\n"
          ],
          "name": "stdout"
        }
      ]
    },
    {
      "cell_type": "code",
      "metadata": {
        "id": "Vt5nH3w1fG5u"
      },
      "source": [
        "# Build Model\n",
        " \n",
        "i = keras.Input(shape=(28,28))\n",
        "x = layers.Flatten()(i)\n",
        "x = layers.Dense(128, activation=\"relu\")(x)\n",
        "x = layers.Dropout(.2)(x)\n",
        "x = layers.Dense(10, activation=\"softmax\")(x)\n",
        " \n",
        "model = keras.Model(i, x)"
      ],
      "execution_count": null,
      "outputs": []
    },
    {
      "cell_type": "code",
      "metadata": {
        "id": "Ml7GFDmFid17"
      },
      "source": [
        "# Compile the Model\n",
        " \n",
        "model.compile(\n",
        "    optimizer='adam',\n",
        "    loss='sparse_categorical_crossentropy',\n",
        "    metrics=['accuracy']\n",
        ")"
      ],
      "execution_count": null,
      "outputs": []
    },
    {
      "cell_type": "code",
      "metadata": {
        "colab": {
          "base_uri": "https://localhost:8080/"
        },
        "id": "7c3gEZh4jLrw",
        "outputId": "894e1ff1-7eca-4ed7-ad3f-add91e59b9df"
      },
      "source": [
        "# Train the Model\n",
        " \n",
        "r = model.fit(X_train, y_train, validation_data=(X_test, y_test), epochs=10)"
      ],
      "execution_count": null,
      "outputs": [
        {
          "output_type": "stream",
          "text": [
            "Epoch 1/10\n",
            "1875/1875 [==============================] - 6s 3ms/step - loss: 0.4759 - accuracy: 0.8620 - val_loss: 0.1382 - val_accuracy: 0.9611\n",
            "Epoch 2/10\n",
            "1875/1875 [==============================] - 5s 3ms/step - loss: 0.1499 - accuracy: 0.9564 - val_loss: 0.1089 - val_accuracy: 0.9667\n",
            "Epoch 3/10\n",
            "1875/1875 [==============================] - 5s 3ms/step - loss: 0.1081 - accuracy: 0.9678 - val_loss: 0.0881 - val_accuracy: 0.9725\n",
            "Epoch 4/10\n",
            "1875/1875 [==============================] - 5s 3ms/step - loss: 0.0883 - accuracy: 0.9735 - val_loss: 0.0793 - val_accuracy: 0.9758\n",
            "Epoch 5/10\n",
            "1875/1875 [==============================] - 5s 3ms/step - loss: 0.0716 - accuracy: 0.9772 - val_loss: 0.0851 - val_accuracy: 0.9740\n",
            "Epoch 6/10\n",
            "1875/1875 [==============================] - 5s 3ms/step - loss: 0.0622 - accuracy: 0.9800 - val_loss: 0.0763 - val_accuracy: 0.9761\n",
            "Epoch 7/10\n",
            "1875/1875 [==============================] - 5s 3ms/step - loss: 0.0571 - accuracy: 0.9821 - val_loss: 0.0783 - val_accuracy: 0.9768\n",
            "Epoch 8/10\n",
            "1875/1875 [==============================] - 5s 3ms/step - loss: 0.0517 - accuracy: 0.9832 - val_loss: 0.0761 - val_accuracy: 0.9775\n",
            "Epoch 9/10\n",
            "1875/1875 [==============================] - 5s 3ms/step - loss: 0.0462 - accuracy: 0.9852 - val_loss: 0.0751 - val_accuracy: 0.9780\n",
            "Epoch 10/10\n",
            "1875/1875 [==============================] - 5s 3ms/step - loss: 0.0414 - accuracy: 0.9868 - val_loss: 0.0790 - val_accuracy: 0.9766\n"
          ],
          "name": "stdout"
        }
      ]
    },
    {
      "cell_type": "code",
      "metadata": {
        "id": "ZAlDpgahyBcf",
        "colab": {
          "base_uri": "https://localhost:8080/"
        },
        "outputId": "cef688ec-038c-46e2-c209-e3a6b14e3bd0"
      },
      "source": [
        " model.evaluate(X_test, y_test)"
      ],
      "execution_count": null,
      "outputs": [
        {
          "output_type": "stream",
          "text": [
            "313/313 [==============================] - 0s 1ms/step - loss: 0.0790 - accuracy: 0.9766\n"
          ],
          "name": "stdout"
        },
        {
          "output_type": "execute_result",
          "data": {
            "text/plain": [
              "[0.07901598513126373, 0.9765999913215637]"
            ]
          },
          "metadata": {
            "tags": []
          },
          "execution_count": 6
        }
      ]
    },
    {
      "cell_type": "code",
      "metadata": {
        "colab": {
          "base_uri": "https://localhost:8080/",
          "height": 573
        },
        "id": "J4y47obdGTQY",
        "outputId": "0886b80b-d1ae-4717-8fd2-e7da370688e5"
      },
      "source": [
        "#  \"Accuracy\"\n",
        "plt.plot(r.history['accuracy'])\n",
        "plt.plot(r.history['val_accuracy'])\n",
        "plt.title('model accuracy')\n",
        "plt.ylabel('accuracy')\n",
        "plt.xlabel('epoch')\n",
        "plt.legend(['train', 'validation'], loc='upper left')\n",
        "plt.show()\n",
        "# \"Loss\"\n",
        "plt.plot(r.history['loss'])\n",
        "plt.plot(r.history['val_loss'])\n",
        "plt.title('model loss')\n",
        "plt.ylabel('loss')\n",
        "plt.xlabel('epoch')\n",
        "plt.legend(['train', 'validation'], loc='upper left')\n",
        "plt.show()"
      ],
      "execution_count": null,
      "outputs": [
        {
          "output_type": "display_data",
          "data": {
            "image/png": "[encoded data removed]",
            "text/plain": [
              "<Figure size 432x288 with 1 Axes>"
            ]
          },
          "metadata": {
            "tags": [],
            "needs_background": "light"
          }
        },
        {
          "output_type": "display_data",
          "data": {
            "image/png": "[encoded data removed]",
            "text/plain": [
              "<Figure size 432x288 with 1 Axes>"
            ]
          },
          "metadata": {
            "tags": [],
            "needs_background": "light"
          }
        }
      ]
    },
    {
      "cell_type": "code",
      "metadata": {
        "id": "kT_-b_fyKibQ"
      },
      "source": [
        "y_pred=model.predict(X_test)"
      ],
      "execution_count": null,
      "outputs": []
    },
    {
      "cell_type": "code",
      "metadata": {
        "colab": {
          "base_uri": "https://localhost:8080/"
        },
        "id": "BFdG2__-K4A5",
        "outputId": "8cf08d4e-d5aa-450f-a3c3-f29533973155"
      },
      "source": [
        "metrix=ms.confusion_matrix(\n",
        "y_test,\n",
        "y_pred.argmax(axis=1)\n",
        ")\n",
        " \n",
        "metrix"
      ],
      "execution_count": null,
      "outputs": [
        {
          "output_type": "execute_result",
          "data": {
            "text/plain": [
              "array([[ 968,    0,    3,    1,    0,    1,    3,    3,    1,    0],\n",
              "       [   0, 1124,    4,    0,    0,    0,    2,    2,    3,    0],\n",
              "       [   5,    3, 1010,    1,    2,    0,    1,    8,    2,    0],\n",
              "       [   0,    0,    6,  987,    0,    4,    0,    8,    3,    2],\n",
              "       [   1,    0,    3,    1,  961,    0,    3,    3,    2,    8],\n",
              "       [   2,    1,    0,   13,    3,  862,    4,    2,    3,    2],\n",
              "       [   6,    3,    1,    1,    6,    4,  932,    2,    3,    0],\n",
              "       [   1,    4,    6,    2,    0,    0,    0, 1013,    0,    2],\n",
              "       [   5,    1,    4,    4,    6,    2,    1,    8,  939,    4],\n",
              "       [   2,    5,    0,    7,   11,    3,    0,   10,    1,  970]])"
            ]
          },
          "metadata": {
            "tags": []
          },
          "execution_count": 9
        }
      ]
    }
  ]
}